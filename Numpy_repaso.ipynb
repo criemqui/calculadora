{
  "nbformat": 4,
  "nbformat_minor": 0,
  "metadata": {
    "colab": {
      "provenance": [],
      "include_colab_link": true
    },
    "kernelspec": {
      "name": "python3",
      "display_name": "Python 3"
    },
    "language_info": {
      "name": "python"
    }
  },
  "cells": [
    {
      "cell_type": "markdown",
      "metadata": {
        "id": "view-in-github",
        "colab_type": "text"
      },
      "source": [
        "<a href=\"https://colab.research.google.com/github/criemqui/calculadora/blob/main/Numpy_repaso.ipynb\" target=\"_parent\"><img src=\"https://colab.research.google.com/assets/colab-badge.svg\" alt=\"Open In Colab\"/></a>"
      ]
    },
    {
      "cell_type": "code",
      "execution_count": null,
      "metadata": {
        "colab": {
          "base_uri": "https://localhost:8080/"
        },
        "id": "lPJBHG4_XpBh",
        "outputId": "4b3b9f74-9fed-479b-f127-1180462dd682"
      },
      "outputs": [
        {
          "output_type": "stream",
          "name": "stdout",
          "text": [
            "[6 6 6 6 6 6]\n",
            "A\n"
          ]
        }
      ],
      "source": [
        "# calculos matematicos\n",
        "# array -> arreglos\n",
        "import numpy as np # np.\n",
        "import pandas as pd # pd\n",
        "\n",
        "arr = np.array([[1, 1, 1, 1, 1, 1],[1, 2, 3, 4, 5, 6],[1, 2, 3, 4, 5, 6],[6, 6, 6, 6, 6, 6]])\n",
        "print(arr[-1])\n",
        "\n",
        "print('AEIOU'[0])"
      ]
    },
    {
      "cell_type": "code",
      "source": [
        "print('AEIOU'[0])"
      ],
      "metadata": {
        "colab": {
          "base_uri": "https://localhost:8080/"
        },
        "id": "e0bTOjOHauqw",
        "outputId": "bda009bf-bbdb-45ff-cefc-27fc708a47ad"
      },
      "execution_count": null,
      "outputs": [
        {
          "output_type": "stream",
          "name": "stdout",
          "text": [
            "A\n"
          ]
        }
      ]
    },
    {
      "cell_type": "code",
      "source": [
        "x = np.arange(10000000)\n",
        "x"
      ],
      "metadata": {
        "colab": {
          "base_uri": "https://localhost:8080/"
        },
        "id": "-pccXajXcMMP",
        "outputId": "198068c8-b390-4334-f314-fe70d1af3783"
      },
      "execution_count": null,
      "outputs": [
        {
          "output_type": "execute_result",
          "data": {
            "text/plain": [
              "array([      0,       1,       2, ..., 9999997, 9999998, 9999999])"
            ]
          },
          "metadata": {},
          "execution_count": 14
        }
      ]
    },
    {
      "cell_type": "code",
      "source": [
        "print(x ** 100)"
      ],
      "metadata": {
        "colab": {
          "base_uri": "https://localhost:8080/"
        },
        "id": "4krIO3fpcRUs",
        "outputId": "eed9b8d3-54bf-45e6-d122-67903ce51326"
      },
      "execution_count": null,
      "outputs": [
        {
          "output_type": "stream",
          "name": "stdout",
          "text": [
            "[100 101 102 103]\n"
          ]
        }
      ]
    },
    {
      "cell_type": "code",
      "source": [
        "print(\"hola\")"
      ],
      "metadata": {
        "colab": {
          "base_uri": "https://localhost:8080/"
        },
        "id": "NF9sPjnecqGe",
        "outputId": "1e3b3b97-74ad-462a-ea5c-bfe2577f96eb"
      },
      "execution_count": null,
      "outputs": [
        {
          "output_type": "stream",
          "name": "stdout",
          "text": [
            "hola\n"
          ]
        }
      ]
    },
    {
      "cell_type": "markdown",
      "source": [],
      "metadata": {
        "id": "nifv1wp9YM3p"
      }
    },
    {
      "cell_type": "code",
      "source": [
        "import numpy as np\n",
        "\n",
        "calificaciones = np.array([\n",
        "   [1, 60, 63, 63, 99, 69],\n",
        "   [2, 79, 81, 96, 83, 66],\n",
        "   [3, 84, 84, 72, 61, 98],\n",
        "   [4, 99, 83, 84, 77, 97],\n",
        "   [5, 85, 73, 68, 69, 80],\n",
        "   [6, 76, 65, 75, 60, 78],\n",
        "   [7, 95, 84, 89, 79, 79],\n",
        "   [8, 74, 99, 92, 61, 69],\n",
        "   [9, 92, 91, 70, 83, 95],\n",
        "   [10, 71, 88, 94, 60, 60]\n",
        "])"
      ],
      "metadata": {
        "id": "L33AsAIvfyio"
      },
      "execution_count": null,
      "outputs": []
    },
    {
      "cell_type": "code",
      "source": [
        "print(calificaciones[3, 1:6])\n",
        "print(np.mean(calificaciones[3, 1:6]))"
      ],
      "metadata": {
        "colab": {
          "base_uri": "https://localhost:8080/"
        },
        "id": "QMpHs-LihS3N",
        "outputId": "ffbb0e65-0f54-47a7-9ad6-5382555283d1"
      },
      "execution_count": null,
      "outputs": [
        {
          "output_type": "stream",
          "name": "stdout",
          "text": [
            "[99 83 84 77 97]\n",
            "88.0\n"
          ]
        }
      ]
    },
    {
      "cell_type": "code",
      "source": [
        "print(calificaciones[:,1:])"
      ],
      "metadata": {
        "colab": {
          "base_uri": "https://localhost:8080/"
        },
        "id": "mzImkF2piieV",
        "outputId": "178778c0-ae00-480d-f8b1-a3065dd3bd50"
      },
      "execution_count": null,
      "outputs": [
        {
          "output_type": "stream",
          "name": "stdout",
          "text": [
            "[[60 63 63 99 69]\n",
            " [79 81 96 83 66]\n",
            " [84 84 72 61 98]\n",
            " [99 83 84 77 97]\n",
            " [85 73 68 69 80]\n",
            " [76 65 75 60 78]\n",
            " [95 84 89 79 79]\n",
            " [74 99 92 61 69]\n",
            " [92 91 70 83 95]\n",
            " [71 88 94 60 60]]\n"
          ]
        }
      ]
    },
    {
      "cell_type": "code",
      "source": [
        "# promedio de materias\n",
        "promedio_asignaturas= np.mean(calificaciones[:,1:], axis=0)\n",
        "promedio_asignaturas"
      ],
      "metadata": {
        "colab": {
          "base_uri": "https://localhost:8080/"
        },
        "id": "RjFd8NC0gu7T",
        "outputId": "e7e40d29-322e-4336-f735-8fa73bf9134c"
      },
      "execution_count": null,
      "outputs": [
        {
          "output_type": "execute_result",
          "data": {
            "text/plain": [
              "array([81.5, 81.1, 80.3, 73.2, 79.1])"
            ]
          },
          "metadata": {},
          "execution_count": 33
        }
      ]
    },
    {
      "cell_type": "code",
      "source": [
        "np.mean(calificaciones[:,1:])"
      ],
      "metadata": {
        "colab": {
          "base_uri": "https://localhost:8080/"
        },
        "id": "ijz2xe2Tie5J",
        "outputId": "6f591c03-6d1e-4b37-dc93-73a006e71d84"
      },
      "execution_count": null,
      "outputs": [
        {
          "output_type": "execute_result",
          "data": {
            "text/plain": [
              "79.04"
            ]
          },
          "metadata": {},
          "execution_count": 36
        }
      ]
    },
    {
      "cell_type": "code",
      "source": [
        "# calificacion promedio de estudiantes\n",
        "cal_est_prom = np.mean(calificaciones[:,1:], axis=1)"
      ],
      "metadata": {
        "id": "Lf6zh9iOjrUy"
      },
      "execution_count": null,
      "outputs": []
    },
    {
      "cell_type": "code",
      "source": [
        "print(cal_est_prom)"
      ],
      "metadata": {
        "colab": {
          "base_uri": "https://localhost:8080/"
        },
        "id": "wv9JifhglXuR",
        "outputId": "fec41f55-2141-4a36-bdd4-f08855ea720e"
      },
      "execution_count": null,
      "outputs": [
        {
          "output_type": "stream",
          "name": "stdout",
          "text": [
            "[70.8 81.  79.8 88.  75.  70.8 85.2 79.  86.2 74.6]\n"
          ]
        }
      ]
    },
    {
      "cell_type": "code",
      "source": [
        "# ejercicio 3\n",
        "np.min(cal_est_prom)"
      ],
      "metadata": {
        "colab": {
          "base_uri": "https://localhost:8080/"
        },
        "id": "3c16M7LZlZH7",
        "outputId": "8fcae65f-b1d9-4932-ebb8-05996af61804"
      },
      "execution_count": null,
      "outputs": [
        {
          "output_type": "execute_result",
          "data": {
            "text/plain": [
              "70.8"
            ]
          },
          "metadata": {},
          "execution_count": 39
        }
      ]
    },
    {
      "cell_type": "code",
      "source": [
        "np.max(cal_est_prom)"
      ],
      "metadata": {
        "colab": {
          "base_uri": "https://localhost:8080/"
        },
        "id": "jRBRM49lmR0D",
        "outputId": "184bfa71-8037-48c6-e59b-0dcf152c80b3"
      },
      "execution_count": null,
      "outputs": [
        {
          "output_type": "execute_result",
          "data": {
            "text/plain": [
              "88.0"
            ]
          },
          "metadata": {},
          "execution_count": 40
        }
      ]
    },
    {
      "cell_type": "code",
      "source": [
        "np.argmax(cal_est_prom)"
      ],
      "metadata": {
        "colab": {
          "base_uri": "https://localhost:8080/"
        },
        "id": "PYXviWKwmVIY",
        "outputId": "4b90eff5-9d0a-4d60-9188-1389bcdd5b5c"
      },
      "execution_count": null,
      "outputs": [
        {
          "output_type": "execute_result",
          "data": {
            "text/plain": [
              "3"
            ]
          },
          "metadata": {},
          "execution_count": 41
        }
      ]
    },
    {
      "cell_type": "code",
      "source": [
        "np.argmin(cal_est_prom)"
      ],
      "metadata": {
        "colab": {
          "base_uri": "https://localhost:8080/"
        },
        "id": "Dc1Sjp8Nm35M",
        "outputId": "ace71795-fd41-492f-f3d9-bcb4d58c6fb3"
      },
      "execution_count": null,
      "outputs": [
        {
          "output_type": "execute_result",
          "data": {
            "text/plain": [
              "0"
            ]
          },
          "metadata": {},
          "execution_count": 42
        }
      ]
    },
    {
      "cell_type": "code",
      "source": [
        "calificaciones[3]"
      ],
      "metadata": {
        "colab": {
          "base_uri": "https://localhost:8080/"
        },
        "id": "Js3j_Ve9mpAh",
        "outputId": "8dab23a7-6bec-40c5-fcbc-365436dd3bba"
      },
      "execution_count": null,
      "outputs": [
        {
          "output_type": "execute_result",
          "data": {
            "text/plain": [
              "array([ 4, 99, 83, 84, 77, 97])"
            ]
          },
          "metadata": {},
          "execution_count": 43
        }
      ]
    },
    {
      "cell_type": "code",
      "source": [
        "#desviacion estandar\n",
        "import math\n",
        "\n",
        "[x, y, z]\n",
        "prom = np.mean()\n",
        "\n",
        "sumatoria = ((x-prom)**2) + ((y-prom)**2) + ((z-prom)**2)\n",
        "\n",
        "# n : nro de elementos\n",
        "desviacion = math.sqrt(sumatoria / (n-1))"
      ],
      "metadata": {
        "colab": {
          "base_uri": "https://localhost:8080/",
          "height": 216
        },
        "id": "exSWpdlXnEtV",
        "outputId": "cffd13e9-5d43-4e5d-a55b-9bd8a1db7f1e"
      },
      "execution_count": null,
      "outputs": [
        {
          "output_type": "error",
          "ename": "NameError",
          "evalue": "name 'y' is not defined",
          "traceback": [
            "\u001b[0;31m---------------------------------------------------------------------------\u001b[0m",
            "\u001b[0;31mNameError\u001b[0m                                 Traceback (most recent call last)",
            "\u001b[0;32m<ipython-input-45-2e079c64b129>\u001b[0m in \u001b[0;36m<cell line: 3>\u001b[0;34m()\u001b[0m\n\u001b[1;32m      1\u001b[0m \u001b[0;31m#desviacion estandar\u001b[0m\u001b[0;34m\u001b[0m\u001b[0;34m\u001b[0m\u001b[0m\n\u001b[1;32m      2\u001b[0m \u001b[0;34m\u001b[0m\u001b[0m\n\u001b[0;32m----> 3\u001b[0;31m \u001b[0;34m[\u001b[0m\u001b[0mx\u001b[0m\u001b[0;34m,\u001b[0m \u001b[0my\u001b[0m\u001b[0;34m,\u001b[0m \u001b[0mz\u001b[0m\u001b[0;34m]\u001b[0m\u001b[0;34m\u001b[0m\u001b[0;34m\u001b[0m\u001b[0m\n\u001b[0m\u001b[1;32m      4\u001b[0m \u001b[0mprom\u001b[0m \u001b[0;34m=\u001b[0m \u001b[0mnp\u001b[0m\u001b[0;34m.\u001b[0m\u001b[0mmean\u001b[0m\u001b[0;34m(\u001b[0m\u001b[0;34m)\u001b[0m\u001b[0;34m\u001b[0m\u001b[0;34m\u001b[0m\u001b[0m\n\u001b[1;32m      5\u001b[0m \u001b[0;34m\u001b[0m\u001b[0m\n",
            "\u001b[0;31mNameError\u001b[0m: name 'y' is not defined"
          ]
        }
      ]
    },
    {
      "cell_type": "code",
      "source": [],
      "metadata": {
        "id": "MKO6P32Eofqk"
      },
      "execution_count": null,
      "outputs": []
    }
  ]
}